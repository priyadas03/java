{
 "cells": [
  {
   "cell_type": "code",
   "execution_count": null,
   "id": "a33eef49-8695-4e40-8916-044d859b9840",
   "metadata": {},
   "outputs": [],
   "source": []
  }
 ],
 "metadata": {
  "kernelspec": {
   "display_name": "",
   "name": ""
  },
  "language_info": {
   "name": ""
  }
 },
 "nbformat": 4,
 "nbformat_minor": 5
}
